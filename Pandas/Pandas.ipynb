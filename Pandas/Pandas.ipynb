{
 "cells": [
  {
   "cell_type": "markdown",
   "id": "d6bc3a04-f4f8-4bb9-bc6a-531ab001111f",
   "metadata": {},
   "source": [
    "# Pandas"
   ]
  },
  {
   "cell_type": "markdown",
   "id": "23bc3394-02e6-450a-8688-9a88abe7d67e",
   "metadata": {},
   "source": [
    "Pandas provides several functions to help check and explore your data efficiently. Here are some key functions for data checking:\n",
    "\n",
    "### 1. **Basic Information**\n",
    "- **`df.head()`**: Displays the first 5 rows of the DataFrame.\n",
    "- **`df.tail()`**: Displays the last 5 rows of the DataFrame.\n",
    "- **`df.info()`**: Provides a summary of the DataFrame, including column names, data types, and non-null counts.\n",
    "- **`df.describe()`**: Generates descriptive statistics (e.g., count, mean, standard deviation) for numerical columns.\n",
    "- **`df.shape`**: Returns the shape of the DataFrame (number of rows, columns).\n",
    "- **`df.columns`**: Lists all column names.\n",
    "- **`df.dtypes`**: Returns the data types of each column.\n",
    "\n",
    "### 2. **Missing Data**\n",
    "- **`df.isnull()`**: Checks for missing values, returning a DataFrame of booleans.\n",
    "- **`df.isnull().sum()`**: Counts the number of missing values in each column.\n",
    "- **`df.notnull()`**: Checks for non-missing values.\n",
    "- **`df.dropna()`**: Removes rows with missing values.\n",
    "- **`df.fillna()`**: Fills missing values with a specified value or method (e.g., forward fill or backward fill).\n",
    "\n",
    "### 3. **Duplicated Data**\n",
    "- **`df.duplicated()`**: Returns a boolean Series indicating duplicate rows.\n",
    "- **`df.drop_duplicates()`**: Removes duplicate rows from the DataFrame.\n",
    "\n",
    "### 4. **Data Types**\n",
    "- **`df.astype()`**: Changes the data type of a column.\n",
    "- **`pd.to_numeric()`**: Converts a column to numeric values (useful for converting strings to numbers).\n",
    "- **`pd.to_datetime()`**: Converts a column to a datetime format.\n",
    "\n",
    "### 5. **Unique Values and Value Counts**\n",
    "- **`df['column'].unique()`**: Returns the unique values of a column.\n",
    "- **`df['column'].nunique()`**: Returns the number of unique values in a column.\n",
    "- **`df['column'].value_counts()`**: Counts the frequency of unique values in a column.\n",
    "\n",
    "### 6. **Summarization**\n",
    "- **`df.mean()`**: Calculates the mean of numeric columns.\n",
    "- **`df.median()`**: Calculates the median of numeric columns.\n",
    "- **`df.mode()`**: Finds the mode (most frequent value) of columns.\n",
    "- **`df.corr()`**: Computes pairwise correlation of columns.\n",
    "- **`df.count()`**: Returns the number of non-null observations in each column.\n",
    "\n",
    "### 7. **Conditional Checks**\n",
    "- **`df[df['column'] > value]`**: Returns rows where a condition holds true (e.g., column value greater than a specific value).\n",
    "- **`df.query('column > value')`**: Another way to filter rows based on conditions.\n",
    "\n",
    "These functions can help you better understand the structure and quality of your dataset."
   ]
  },
  {
   "cell_type": "code",
   "execution_count": null,
   "id": "5892ab3b-f429-4093-817e-0a1c87148e23",
   "metadata": {},
   "outputs": [],
   "source": []
  }
 ],
 "metadata": {
  "kernelspec": {
   "display_name": "Python 3 (ipykernel)",
   "language": "python",
   "name": "python3"
  },
  "language_info": {
   "codemirror_mode": {
    "name": "ipython",
    "version": 3
   },
   "file_extension": ".py",
   "mimetype": "text/x-python",
   "name": "python",
   "nbconvert_exporter": "python",
   "pygments_lexer": "ipython3",
   "version": "3.12.4"
  }
 },
 "nbformat": 4,
 "nbformat_minor": 5
}
